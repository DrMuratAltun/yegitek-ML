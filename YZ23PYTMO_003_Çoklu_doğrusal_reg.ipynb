{
 "cells": [
  {
   "cell_type": "markdown",
   "metadata": {
    "id": "g6T_VddpbG8L"
   },
   "source": [
    "#Uygulama 1: Çoklu  Doğrusal Regresyon Analizi"
   ]
  },
  {
   "cell_type": "markdown",
   "metadata": {
    "id": "8n1650mlgcEB"
   },
   "source": [
    "**Ön Hazırlık :  Örneğimizde veri setine Google Drive'dan erişildiği için drive bağlantısı yapılır**"
   ]
  },
  {
   "cell_type": "code",
   "execution_count": null,
   "metadata": {
    "colab": {
     "base_uri": "https://localhost:8080/"
    },
    "executionInfo": {
     "elapsed": 21978,
     "status": "ok",
     "timestamp": 1677740872784,
     "user": {
      "displayName": "Ünal ÇELİK",
      "userId": "17996903097212614708"
     },
     "user_tz": -180
    },
    "id": "2-ptnnQyEFge",
    "outputId": "c71457e9-6036-4654-e03b-102ff375a178"
   },
   "outputs": [
    {
     "name": "stdout",
     "output_type": "stream",
     "text": [
      "Mounted at /content/drive\n"
     ]
    }
   ],
   "source": [
    "from google.colab import drive\n",
    "drive.mount('/content/drive')"
   ]
  },
  {
   "cell_type": "markdown",
   "metadata": {
    "id": "h1IWHf5qi459"
   },
   "source": [
    "**1. Aşama: Veri toplama (veri setinin yüklenmesi)**"
   ]
  },
  {
   "cell_type": "code",
   "execution_count": null,
   "metadata": {
    "colab": {
     "base_uri": "https://localhost:8080/"
    },
    "executionInfo": {
     "elapsed": 3721,
     "status": "ok",
     "timestamp": 1677740876503,
     "user": {
      "displayName": "Ünal ÇELİK",
      "userId": "17996903097212614708"
     },
     "user_tz": -180
    },
    "id": "cbYa_xZLxoMN",
    "outputId": "40e24430-8262-49f2-dba7-8d406c67417d"
   },
   "outputs": [
    {
     "name": "stdout",
     "output_type": "stream",
     "text": [
      "      fiyat  alan  yatak_odasi  banyo_sayisi  kat_sayisi anayol_baglanti  \\\n",
      "0  13300000  7420            4             2           3            evet   \n",
      "1  12250000  8960            4             4           4            evet   \n",
      "2  12250000  9960            3             2           2            evet   \n",
      "3  12215000  7500            4             2           2            evet   \n",
      "4  11410000  7420            4             1           2            evet   \n",
      "\n",
      "  misafir_odası bodrum sıcak_su  klima  otopark         mob_drm  \n",
      "0         hayır  hayır    hayır   evet        2       mobilyalı  \n",
      "1         hayır  hayır    hayır   evet        3       mobilyalı  \n",
      "2         hayır   evet    hayır  hayır        2  yarı mobilyalı  \n",
      "3         hayır   evet    hayır   evet        3       mobilyalı  \n",
      "4          evet   evet    hayır   evet        2       mobilyalı  \n"
     ]
    }
   ],
   "source": [
    "import warnings\n",
    "warnings.filterwarnings('ignore')\n",
    "import pandas as pd \n",
    "from sklearn.linear_model import LinearRegression \n",
    "from sklearn.model_selection import train_test_split \n",
    "from sklearn.metrics import r2_score \n",
    "data_file_path = \"/content/drive/MyDrive/PythonileMakineOgrenmesi/VeriSetleri/Tr_ev_fiyatlari_v2.csv\"\n",
    "df = pd.read_csv(data_file_path) \n",
    "print(df.head())"
   ]
  },
  {
   "cell_type": "markdown",
   "metadata": {
    "id": "dwjyldqI0azy"
   },
   "source": [
    "**2. Aşama: Veri ön işleme**"
   ]
  },
  {
   "cell_type": "code",
   "execution_count": null,
   "metadata": {
    "colab": {
     "base_uri": "https://localhost:8080/"
    },
    "executionInfo": {
     "elapsed": 8,
     "status": "ok",
     "timestamp": 1677740876503,
     "user": {
      "displayName": "Ünal ÇELİK",
      "userId": "17996903097212614708"
     },
     "user_tz": -180
    },
    "id": "lE3iAmOO4fyc",
    "outputId": "81dc2d4f-23f8-4fa2-c824-b574817d38f7"
   },
   "outputs": [
    {
     "name": "stdout",
     "output_type": "stream",
     "text": [
      "<class 'pandas.core.frame.DataFrame'>\n",
      "RangeIndex: 545 entries, 0 to 544\n",
      "Data columns (total 12 columns):\n",
      " #   Column           Non-Null Count  Dtype \n",
      "---  ------           --------------  ----- \n",
      " 0   fiyat            545 non-null    int64 \n",
      " 1   alan             545 non-null    int64 \n",
      " 2   yatak_odasi      545 non-null    int64 \n",
      " 3   banyo_sayisi     545 non-null    int64 \n",
      " 4   kat_sayisi       545 non-null    int64 \n",
      " 5   anayol_baglanti  545 non-null    object\n",
      " 6   misafir_odası    545 non-null    object\n",
      " 7   bodrum           545 non-null    object\n",
      " 8   sıcak_su         545 non-null    object\n",
      " 9   klima            545 non-null    object\n",
      " 10  otopark          545 non-null    int64 \n",
      " 11  mob_drm          545 non-null    object\n",
      "dtypes: int64(6), object(6)\n",
      "memory usage: 51.2+ KB\n",
      "None\n"
     ]
    }
   ],
   "source": [
    "print(df.info())"
   ]
  },
  {
   "cell_type": "code",
   "execution_count": null,
   "metadata": {
    "colab": {
     "base_uri": "https://localhost:8080/"
    },
    "executionInfo": {
     "elapsed": 6,
     "status": "ok",
     "timestamp": 1677740876503,
     "user": {
      "displayName": "Ünal ÇELİK",
      "userId": "17996903097212614708"
     },
     "user_tz": -180
    },
    "id": "QE-DE-js4RhL",
    "outputId": "1936b514-4944-48ff-96ac-10ca93c630f0"
   },
   "outputs": [
    {
     "name": "stdout",
     "output_type": "stream",
     "text": [
      "              fiyat          alan  yatak_odasi  banyo_sayisi  kat_sayisi  \\\n",
      "count  5.450000e+02    545.000000   545.000000    545.000000  545.000000   \n",
      "mean   4.766729e+06   5150.541284     2.965138      1.286239    1.805505   \n",
      "std    1.870440e+06   2170.141023     0.738064      0.502470    0.867492   \n",
      "min    1.750000e+06   1650.000000     1.000000      1.000000    1.000000   \n",
      "25%    3.430000e+06   3600.000000     2.000000      1.000000    1.000000   \n",
      "50%    4.340000e+06   4600.000000     3.000000      1.000000    2.000000   \n",
      "75%    5.740000e+06   6360.000000     3.000000      2.000000    2.000000   \n",
      "max    1.330000e+07  16200.000000     6.000000      4.000000    4.000000   \n",
      "\n",
      "          otopark  \n",
      "count  545.000000  \n",
      "mean     0.693578  \n",
      "std      0.861586  \n",
      "min      0.000000  \n",
      "25%      0.000000  \n",
      "50%      0.000000  \n",
      "75%      1.000000  \n",
      "max      3.000000  \n"
     ]
    }
   ],
   "source": [
    "print(df.describe())"
   ]
  },
  {
   "cell_type": "code",
   "execution_count": null,
   "metadata": {
    "colab": {
     "base_uri": "https://localhost:8080/"
    },
    "executionInfo": {
     "elapsed": 5,
     "status": "ok",
     "timestamp": 1677740876503,
     "user": {
      "displayName": "Ünal ÇELİK",
      "userId": "17996903097212614708"
     },
     "user_tz": -180
    },
    "id": "-eVrBUzlkRRl",
    "outputId": "60c88bc0-010a-4fd7-b156-6c911e610fc7"
   },
   "outputs": [
    {
     "name": "stdout",
     "output_type": "stream",
     "text": [
      "      fiyat  alan  yatak_odasi  banyo_sayisi  kat_sayisi  otopark  \\\n",
      "0  13300000  7420            4             2           3        2   \n",
      "1  12250000  8960            4             4           4        3   \n",
      "2  12250000  9960            3             2           2        2   \n",
      "3  12215000  7500            4             2           2        3   \n",
      "4  11410000  7420            4             1           2        2   \n",
      "\n",
      "   anayol_baglanti_evet  anayol_baglanti_hayır  misafir_odası_evet  \\\n",
      "0                     1                      0                   0   \n",
      "1                     1                      0                   0   \n",
      "2                     1                      0                   0   \n",
      "3                     1                      0                   0   \n",
      "4                     1                      0                   1   \n",
      "\n",
      "   misafir_odası_hayır  bodrum_evet  bodrum_hayır  sıcak_su_evet  \\\n",
      "0                    1            0             1              0   \n",
      "1                    1            0             1              0   \n",
      "2                    1            1             0              0   \n",
      "3                    1            1             0              0   \n",
      "4                    0            1             0              0   \n",
      "\n",
      "   sıcak_su_hayır  klima_evet  klima_hayır  mob_drm_mobilyalı  \\\n",
      "0               1           1            0                  1   \n",
      "1               1           1            0                  1   \n",
      "2               1           0            1                  0   \n",
      "3               1           1            0                  1   \n",
      "4               1           1            0                  1   \n",
      "\n",
      "   mob_drm_mobilyasız  mob_drm_yarı mobilyalı  \n",
      "0                   0                       0  \n",
      "1                   0                       0  \n",
      "2                   0                       1  \n",
      "3                   0                       0  \n",
      "4                   0                       0  \n"
     ]
    }
   ],
   "source": [
    "object_columns = df.select_dtypes(include=['object']).columns \n",
    "df = pd.get_dummies(df, columns=object_columns)\n",
    "print(df.head())"
   ]
  },
  {
   "cell_type": "code",
   "execution_count": null,
   "metadata": {
    "colab": {
     "base_uri": "https://localhost:8080/"
    },
    "executionInfo": {
     "elapsed": 4,
     "status": "ok",
     "timestamp": 1677740876503,
     "user": {
      "displayName": "Ünal ÇELİK",
      "userId": "17996903097212614708"
     },
     "user_tz": -180
    },
    "id": "LQExxlxJPDXM",
    "outputId": "1076ea7c-b95a-4b28-f212-f8ea4aae11e9"
   },
   "outputs": [
    {
     "name": "stdout",
     "output_type": "stream",
     "text": [
      "      fiyat  alan  yatak_odasi  banyo_sayisi  kat_sayisi  otopark  \\\n",
      "0  13300000  7420            4             2           3        2   \n",
      "1  12250000  8960            4             4           4        3   \n",
      "2  12250000  9960            3             2           2        2   \n",
      "3  12215000  7500            4             2           2        3   \n",
      "4  11410000  7420            4             1           2        2   \n",
      "\n",
      "   anayol_baglanti_evet  misafir_odası_evet  bodrum_evet  sıcak_su_evet  \\\n",
      "0                     1                   0            0              0   \n",
      "1                     1                   0            0              0   \n",
      "2                     1                   0            1              0   \n",
      "3                     1                   0            1              0   \n",
      "4                     1                   1            1              0   \n",
      "\n",
      "   klima_evet  mob_drm_mobilyalı  mob_drm_yarı mobilyalı  \n",
      "0           1                  1                       0  \n",
      "1           1                  1                       0  \n",
      "2           0                  0                       1  \n",
      "3           1                  1                       0  \n",
      "4           1                  1                       0  \n"
     ]
    }
   ],
   "source": [
    "df.drop(['anayol_baglanti_hayır','misafir_odası_hayır','bodrum_hayır',\n",
    "         'sıcak_su_hayır','klima_hayır','mob_drm_mobilyasız'], \n",
    "        axis=1, inplace=True)\n",
    "print(df.head())"
   ]
  },
  {
   "cell_type": "code",
   "execution_count": null,
   "metadata": {
    "colab": {
     "base_uri": "https://localhost:8080/"
    },
    "executionInfo": {
     "elapsed": 3,
     "status": "ok",
     "timestamp": 1677740876503,
     "user": {
      "displayName": "Ünal ÇELİK",
      "userId": "17996903097212614708"
     },
     "user_tz": -180
    },
    "id": "OeqKrVWJZmFX",
    "outputId": "fc074ae0-78af-4e75-e96c-f975a8e1485c"
   },
   "outputs": [
    {
     "name": "stdout",
     "output_type": "stream",
     "text": [
      "      fiyat      alan  yatak_odasi  banyo_sayisi  kat_sayisi   otopark  \\\n",
      "0  1.000000  0.396564          0.6      0.333333    0.666667  0.666667   \n",
      "1  0.909091  0.502405          0.6      1.000000    1.000000  1.000000   \n",
      "2  0.909091  0.571134          0.4      0.333333    0.333333  0.666667   \n",
      "3  0.906061  0.402062          0.6      0.333333    0.333333  1.000000   \n",
      "4  0.836364  0.396564          0.6      0.000000    0.333333  0.666667   \n",
      "\n",
      "   anayol_baglanti_evet  misafir_odası_evet  bodrum_evet  sıcak_su_evet  \\\n",
      "0                   1.0                 0.0          0.0            0.0   \n",
      "1                   1.0                 0.0          0.0            0.0   \n",
      "2                   1.0                 0.0          1.0            0.0   \n",
      "3                   1.0                 0.0          1.0            0.0   \n",
      "4                   1.0                 1.0          1.0            0.0   \n",
      "\n",
      "   klima_evet  mob_drm_mobilyalı  mob_drm_yarı mobilyalı  \n",
      "0         1.0                1.0                     0.0  \n",
      "1         1.0                1.0                     0.0  \n",
      "2         0.0                0.0                     1.0  \n",
      "3         1.0                1.0                     0.0  \n",
      "4         1.0                1.0                     0.0  \n"
     ]
    }
   ],
   "source": [
    "from sklearn.preprocessing import MinMaxScaler\n",
    "scaler = MinMaxScaler()\n",
    "nrmlzd_df=scaler.fit_transform(df)\n",
    "df_nrmlzd=pd.DataFrame(data=nrmlzd_df, columns=df.columns)\n",
    "print(df_nrmlzd.head())"
   ]
  },
  {
   "cell_type": "code",
   "execution_count": null,
   "metadata": {
    "id": "z1XpnVv4cSBb"
   },
   "outputs": [],
   "source": [
    "y = df[\"fiyat\"]\n",
    "df.drop('fiyat', axis=1, inplace=True)\n",
    "X =df"
   ]
  },
  {
   "cell_type": "code",
   "execution_count": null,
   "metadata": {
    "colab": {
     "base_uri": "https://localhost:8080/"
    },
    "executionInfo": {
     "elapsed": 423,
     "status": "ok",
     "timestamp": 1677740876924,
     "user": {
      "displayName": "Ünal ÇELİK",
      "userId": "17996903097212614708"
     },
     "user_tz": -180
    },
    "id": "Dgw6z4IKpXM3",
    "outputId": "07e3f386-3d4b-4ed7-d860-7b49812293de"
   },
   "outputs": [
    {
     "name": "stdout",
     "output_type": "stream",
     "text": [
      "0    13300000\n",
      "1    12250000\n",
      "2    12250000\n",
      "3    12215000\n",
      "4    11410000\n",
      "Name: fiyat, dtype: int64\n",
      "   alan  yatak_odasi  banyo_sayisi  kat_sayisi  otopark  anayol_baglanti_evet  \\\n",
      "0  7420            4             2           3        2                     1   \n",
      "1  8960            4             4           4        3                     1   \n",
      "2  9960            3             2           2        2                     1   \n",
      "3  7500            4             2           2        3                     1   \n",
      "4  7420            4             1           2        2                     1   \n",
      "\n",
      "   misafir_odası_evet  bodrum_evet  sıcak_su_evet  klima_evet  \\\n",
      "0                   0            0              0           1   \n",
      "1                   0            0              0           1   \n",
      "2                   0            1              0           0   \n",
      "3                   0            1              0           1   \n",
      "4                   1            1              0           1   \n",
      "\n",
      "   mob_drm_mobilyalı  mob_drm_yarı mobilyalı  \n",
      "0                  1                       0  \n",
      "1                  1                       0  \n",
      "2                  0                       1  \n",
      "3                  1                       0  \n",
      "4                  1                       0  \n"
     ]
    }
   ],
   "source": [
    "print(y.head())\n",
    "print(X.head())"
   ]
  },
  {
   "cell_type": "code",
   "execution_count": null,
   "metadata": {
    "id": "eJhYpnkahIg5"
   },
   "outputs": [],
   "source": [
    "X_train, X_test, y_train, y_test = train_test_split(X, y,test_size=0.2, random_state=7) "
   ]
  },
  {
   "cell_type": "markdown",
   "metadata": {
    "id": "VZ5KjXjC4AUI"
   },
   "source": [
    "**3. Aşama : Model oluşturma**"
   ]
  },
  {
   "cell_type": "code",
   "execution_count": null,
   "metadata": {
    "colab": {
     "base_uri": "https://localhost:8080/"
    },
    "executionInfo": {
     "elapsed": 5,
     "status": "ok",
     "timestamp": 1677740876924,
     "user": {
      "displayName": "Ünal ÇELİK",
      "userId": "17996903097212614708"
     },
     "user_tz": -180
    },
    "id": "6R4HfMtCgcy6",
    "outputId": "c248efb5-49bc-47c0-8769-524b09eef135"
   },
   "outputs": [
    {
     "data": {
      "text/plain": [
       "LinearRegression()"
      ]
     },
     "execution_count": 12,
     "metadata": {},
     "output_type": "execute_result"
    }
   ],
   "source": [
    "# Modeli seçme\n",
    "model = LinearRegression()\n",
    "# Modeli eğitme\n",
    "model.fit(X_train, y_train)"
   ]
  },
  {
   "cell_type": "markdown",
   "metadata": {
    "id": "jq33pKr44FZH"
   },
   "source": [
    "**4. Aşama: Model Değerlendirme-Test etme**"
   ]
  },
  {
   "cell_type": "code",
   "execution_count": null,
   "metadata": {
    "colab": {
     "base_uri": "https://localhost:8080/",
     "height": 308
    },
    "executionInfo": {
     "elapsed": 460,
     "status": "ok",
     "timestamp": 1677740877381,
     "user": {
      "displayName": "Ünal ÇELİK",
      "userId": "17996903097212614708"
     },
     "user_tz": -180
    },
    "id": "lA-ZwgIjY91S",
    "outputId": "f1fba7f9-17e1-4ca2-afd2-e4b7e2fe680a"
   },
   "outputs": [
    {
     "name": "stdout",
     "output_type": "stream",
     "text": [
      "Modelin doğruluk oranı: 0.64\n"
     ]
    },
    {
     "data": {
      "image/png": "[encoded data removed]",
      "text/plain": [
       "<Figure size 432x288 with 1 Axes>"
      ]
     },
     "metadata": {
      "needs_background": "light"
     },
     "output_type": "display_data"
    }
   ],
   "source": [
    "y_pred = model.predict(X_test)\n",
    "r2 = r2_score(y_test, y_pred)\n",
    "print(f\"Modelin doğruluk oranı: {r2:.2f}\")\n",
    "import matplotlib.pyplot as plt\n",
    "plt.scatter(y_test, y_pred)\n",
    "plt.plot(y_pred, y_pred, color='red')\n",
    "plt.xlabel(\"Gerçek Fiyatlar\")\n",
    "plt.ylabel(\"Regresyon Tahminleri\")\n",
    "plt.show()"
   ]
  },
  {
   "cell_type": "markdown",
   "metadata": {
    "id": "G34A8XrX4MAS"
   },
   "source": [
    "**5. Aşama: Modeli Yayma**"
   ]
  },
  {
   "cell_type": "code",
   "execution_count": null,
   "metadata": {
    "colab": {
     "base_uri": "https://localhost:8080/",
     "height": 408
    },
    "executionInfo": {
     "elapsed": 5486,
     "status": "error",
     "timestamp": 1677742403268,
     "user": {
      "displayName": "Ünal ÇELİK",
      "userId": "17996903097212614708"
     },
     "user_tz": -180
    },
    "id": "F-o7StKtZH-n",
    "outputId": "4f4abd15-f0ab-4bb7-a03d-4c32ccf6a612"
   },
   "outputs": [
    {
     "metadata": {
      "tags": null
     },
     "name": "stdout",
     "output_type": "stream",
     "text": [
      "Evin özelliklerini giriniz\n"
     ]
    },
    {
     "ename": "KeyboardInterrupt",
     "evalue": "ignored",
     "output_type": "error",
     "traceback": [
      "\u001b[0;31m---------------------------------------------------------------------------\u001b[0m",
      "\u001b[0;31mKeyboardInterrupt\u001b[0m                         Traceback (most recent call last)",
      "\u001b[0;32m<ipython-input-16-c23ec951a0ff>\u001b[0m in \u001b[0;36m<module>\u001b[0;34m\u001b[0m\n\u001b[1;32m      1\u001b[0m \u001b[0mprint\u001b[0m\u001b[0;34m(\u001b[0m\u001b[0;34m\"Evin özelliklerini giriniz\"\u001b[0m\u001b[0;34m)\u001b[0m\u001b[0;34m\u001b[0m\u001b[0;34m\u001b[0m\u001b[0m\n\u001b[1;32m      2\u001b[0m \u001b[0mozellik\u001b[0m\u001b[0;34m=\u001b[0m\u001b[0;34m[\u001b[0m\u001b[0;34m]\u001b[0m\u001b[0;34m\u001b[0m\u001b[0;34m\u001b[0m\u001b[0m\n\u001b[0;32m----> 3\u001b[0;31m \u001b[0mozellik\u001b[0m\u001b[0;34m.\u001b[0m\u001b[0mappend\u001b[0m\u001b[0;34m(\u001b[0m\u001b[0mint\u001b[0m\u001b[0;34m(\u001b[0m\u001b[0minput\u001b[0m\u001b[0;34m(\u001b[0m\u001b[0;34m\"Evin büyüklüğü bahçe dahil           : \"\u001b[0m\u001b[0;34m)\u001b[0m\u001b[0;34m)\u001b[0m\u001b[0;34m)\u001b[0m\u001b[0;34m\u001b[0m\u001b[0;34m\u001b[0m\u001b[0m\n\u001b[0m\u001b[1;32m      4\u001b[0m \u001b[0mozellik\u001b[0m\u001b[0;34m.\u001b[0m\u001b[0mappend\u001b[0m\u001b[0;34m(\u001b[0m\u001b[0mint\u001b[0m\u001b[0;34m(\u001b[0m\u001b[0minput\u001b[0m\u001b[0;34m(\u001b[0m\u001b[0;34m\"Yatak odası sayısı                   : \"\u001b[0m\u001b[0;34m)\u001b[0m\u001b[0;34m)\u001b[0m\u001b[0;34m)\u001b[0m\u001b[0;34m\u001b[0m\u001b[0;34m\u001b[0m\u001b[0m\n\u001b[1;32m      5\u001b[0m \u001b[0mozellik\u001b[0m\u001b[0;34m.\u001b[0m\u001b[0mappend\u001b[0m\u001b[0;34m(\u001b[0m\u001b[0mint\u001b[0m\u001b[0;34m(\u001b[0m\u001b[0minput\u001b[0m\u001b[0;34m(\u001b[0m\u001b[0;34m\"Banyo sayısı                         : \"\u001b[0m\u001b[0;34m)\u001b[0m\u001b[0;34m)\u001b[0m\u001b[0;34m)\u001b[0m\u001b[0;34m\u001b[0m\u001b[0;34m\u001b[0m\u001b[0m\n",
      "\u001b[0;32m/usr/local/lib/python3.8/dist-packages/ipykernel/kernelbase.py\u001b[0m in \u001b[0;36mraw_input\u001b[0;34m(self, prompt)\u001b[0m\n\u001b[1;32m    858\u001b[0m                 \u001b[0;34m\"raw_input was called, but this frontend does not support input requests.\"\u001b[0m\u001b[0;34m\u001b[0m\u001b[0;34m\u001b[0m\u001b[0m\n\u001b[1;32m    859\u001b[0m             )\n\u001b[0;32m--> 860\u001b[0;31m         return self._input_request(str(prompt),\n\u001b[0m\u001b[1;32m    861\u001b[0m             \u001b[0mself\u001b[0m\u001b[0;34m.\u001b[0m\u001b[0m_parent_ident\u001b[0m\u001b[0;34m,\u001b[0m\u001b[0;34m\u001b[0m\u001b[0;34m\u001b[0m\u001b[0m\n\u001b[1;32m    862\u001b[0m             \u001b[0mself\u001b[0m\u001b[0;34m.\u001b[0m\u001b[0m_parent_header\u001b[0m\u001b[0;34m,\u001b[0m\u001b[0;34m\u001b[0m\u001b[0;34m\u001b[0m\u001b[0m\n",
      "\u001b[0;32m/usr/local/lib/python3.8/dist-packages/ipykernel/kernelbase.py\u001b[0m in \u001b[0;36m_input_request\u001b[0;34m(self, prompt, ident, parent, password)\u001b[0m\n\u001b[1;32m    902\u001b[0m             \u001b[0;32mexcept\u001b[0m \u001b[0mKeyboardInterrupt\u001b[0m\u001b[0;34m:\u001b[0m\u001b[0;34m\u001b[0m\u001b[0;34m\u001b[0m\u001b[0m\n\u001b[1;32m    903\u001b[0m                 \u001b[0;31m# re-raise KeyboardInterrupt, to truncate traceback\u001b[0m\u001b[0;34m\u001b[0m\u001b[0;34m\u001b[0m\u001b[0;34m\u001b[0m\u001b[0m\n\u001b[0;32m--> 904\u001b[0;31m                 \u001b[0;32mraise\u001b[0m \u001b[0mKeyboardInterrupt\u001b[0m\u001b[0;34m(\u001b[0m\u001b[0;34m\"Interrupted by user\"\u001b[0m\u001b[0;34m)\u001b[0m \u001b[0;32mfrom\u001b[0m \u001b[0;32mNone\u001b[0m\u001b[0;34m\u001b[0m\u001b[0;34m\u001b[0m\u001b[0m\n\u001b[0m\u001b[1;32m    905\u001b[0m             \u001b[0;32mexcept\u001b[0m \u001b[0mException\u001b[0m \u001b[0;32mas\u001b[0m \u001b[0me\u001b[0m\u001b[0;34m:\u001b[0m\u001b[0;34m\u001b[0m\u001b[0;34m\u001b[0m\u001b[0m\n\u001b[1;32m    906\u001b[0m                 \u001b[0mself\u001b[0m\u001b[0;34m.\u001b[0m\u001b[0mlog\u001b[0m\u001b[0;34m.\u001b[0m\u001b[0mwarning\u001b[0m\u001b[0;34m(\u001b[0m\u001b[0;34m\"Invalid Message:\"\u001b[0m\u001b[0;34m,\u001b[0m \u001b[0mexc_info\u001b[0m\u001b[0;34m=\u001b[0m\u001b[0;32mTrue\u001b[0m\u001b[0;34m)\u001b[0m\u001b[0;34m\u001b[0m\u001b[0;34m\u001b[0m\u001b[0m\n",
      "\u001b[0;31mKeyboardInterrupt\u001b[0m: Interrupted by user"
     ]
    }
   ],
   "source": [
    "print(\"Evin özelliklerini giriniz\")\n",
    "ozellik=[]\n",
    "ozellik.append(int(input(\"Evin büyüklüğü bahçe dahil           : \")))\n",
    "ozellik.append(int(input(\"Yatak odası sayısı                   : \")))\n",
    "ozellik.append(int(input(\"Banyo sayısı                         : \")))\n",
    "ozellik.append(int(input(\"Kat sayısı                           : \")))\n",
    "ozellik.append(int(input(\"Otopark sayısı                       : \")))\n",
    "ozellik.append(int(input(\"Ana yol bağlantısı var mı? [E=1/H=0] : \")))\n",
    "ozellik.append(int(input(\"Misafir odası var mı?      [E=1/H=0] : \")))\n",
    "ozellik.append(int(input(\"Bodrumu var mı?            [E=1/H=0] : \")))\n",
    "ozellik.append(int(input(\"Sıcak su var mı?           [E=1/H=0] : \")))\n",
    "ozellik.append(int(input(\"Klima var mı?              [E=1/H=0] : \")))\n",
    "ozellik.append(int(input(\"Tam mobilyalı mı?          [E=1/H=0] : \")))\n",
    "ozellik.append(int(input(\"Yarım mobilyalı mı?        [E=1/H=0] : \")))\n",
    "print(ozellik)\n",
    "tahmini_fiyat= model.predict([ozellik])\n",
    "print(\"--------------------------------------------\")\n",
    "print(\"Tahmini ev fiyatı:\",int(tahmini_fiyat),\"...\")\n",
    "print(\"--------------------------------------------\")"
   ]
  }
 ],
 "metadata": {
  "accelerator": "TPU",
  "colab": {
   "provenance": [
    {
     "file_id": "1aQ3IvfK0TnV1wqolZjm_VaA3Q8L0ax0A",
     "timestamp": 1677135692998
    }
   ]
  },
  "gpuClass": "standard",
  "kernelspec": {
   "display_name": "Python 3 (ipykernel)",
   "language": "python",
   "name": "python3"
  },
  "language_info": {
   "codemirror_mode": {
    "name": "ipython",
    "version": 3
   },
   "file_extension": ".py",
   "mimetype": "text/x-python",
   "name": "python",
   "nbconvert_exporter": "python",
   "pygments_lexer": "ipython3",
   "version": "3.11.7"
  }
 },
 "nbformat": 4,
 "nbformat_minor": 4
}
